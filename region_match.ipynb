{
 "cells": [
  {
   "cell_type": "markdown",
   "metadata": {},
   "source": [
    "읍면동 이름을 찾아서 시군구가 무엇에 해당하는지 반환하는 함수"
   ]
  },
  {
   "cell_type": "code",
   "execution_count": null,
   "metadata": {},
   "outputs": [],
   "source": [
    "import pandas as pd\n",
    "import time"
   ]
  },
  {
   "cell_type": "code",
   "execution_count": 5,
   "metadata": {},
   "outputs": [],
   "source": [
    "df = pd.read_excel(\"region_match.xlsx\", engine=\"openpyxl\")"
   ]
  },
  {
   "cell_type": "code",
   "execution_count": 6,
   "metadata": {},
   "outputs": [
    {
     "data": {
      "text/html": [
       "<div>\n",
       "<style scoped>\n",
       "    .dataframe tbody tr th:only-of-type {\n",
       "        vertical-align: middle;\n",
       "    }\n",
       "\n",
       "    .dataframe tbody tr th {\n",
       "        vertical-align: top;\n",
       "    }\n",
       "\n",
       "    .dataframe thead th {\n",
       "        text-align: right;\n",
       "    }\n",
       "</style>\n",
       "<table border=\"1\" class=\"dataframe\">\n",
       "  <thead>\n",
       "    <tr style=\"text-align: right;\">\n",
       "      <th></th>\n",
       "      <th>구분</th>\n",
       "      <th>행정구역코드</th>\n",
       "      <th>1단계</th>\n",
       "      <th>2단계</th>\n",
       "      <th>3단계</th>\n",
       "      <th>격자 X</th>\n",
       "      <th>격자 Y</th>\n",
       "      <th>경도(시)</th>\n",
       "      <th>경도(분)</th>\n",
       "      <th>경도(초)</th>\n",
       "      <th>위도(시)</th>\n",
       "      <th>위도(분)</th>\n",
       "      <th>위도(초)</th>\n",
       "      <th>경도(초/100)</th>\n",
       "      <th>위도(초/100)</th>\n",
       "      <th>위치업데이트</th>\n",
       "    </tr>\n",
       "  </thead>\n",
       "  <tbody>\n",
       "    <tr>\n",
       "      <th>0</th>\n",
       "      <td>kor</td>\n",
       "      <td>1100000000</td>\n",
       "      <td>서울특별시</td>\n",
       "      <td>NaN</td>\n",
       "      <td>NaN</td>\n",
       "      <td>60</td>\n",
       "      <td>127</td>\n",
       "      <td>126</td>\n",
       "      <td>58</td>\n",
       "      <td>48.03</td>\n",
       "      <td>37</td>\n",
       "      <td>33</td>\n",
       "      <td>48.85</td>\n",
       "      <td>126.980008</td>\n",
       "      <td>37.563569</td>\n",
       "      <td>NaN</td>\n",
       "    </tr>\n",
       "    <tr>\n",
       "      <th>1</th>\n",
       "      <td>kor</td>\n",
       "      <td>1111000000</td>\n",
       "      <td>서울특별시</td>\n",
       "      <td>종로구</td>\n",
       "      <td>NaN</td>\n",
       "      <td>60</td>\n",
       "      <td>127</td>\n",
       "      <td>126</td>\n",
       "      <td>58</td>\n",
       "      <td>53.91</td>\n",
       "      <td>37</td>\n",
       "      <td>34</td>\n",
       "      <td>13.36</td>\n",
       "      <td>126.981642</td>\n",
       "      <td>37.570378</td>\n",
       "      <td>NaN</td>\n",
       "    </tr>\n",
       "    <tr>\n",
       "      <th>2</th>\n",
       "      <td>kor</td>\n",
       "      <td>1111051500</td>\n",
       "      <td>서울특별시</td>\n",
       "      <td>종로구</td>\n",
       "      <td>청운효자동</td>\n",
       "      <td>60</td>\n",
       "      <td>127</td>\n",
       "      <td>126</td>\n",
       "      <td>58</td>\n",
       "      <td>14.35</td>\n",
       "      <td>37</td>\n",
       "      <td>35</td>\n",
       "      <td>2.89</td>\n",
       "      <td>126.970652</td>\n",
       "      <td>37.584137</td>\n",
       "      <td>NaN</td>\n",
       "    </tr>\n",
       "    <tr>\n",
       "      <th>3</th>\n",
       "      <td>kor</td>\n",
       "      <td>1111053000</td>\n",
       "      <td>서울특별시</td>\n",
       "      <td>종로구</td>\n",
       "      <td>사직동</td>\n",
       "      <td>60</td>\n",
       "      <td>127</td>\n",
       "      <td>126</td>\n",
       "      <td>58</td>\n",
       "      <td>15.44</td>\n",
       "      <td>37</td>\n",
       "      <td>34</td>\n",
       "      <td>23.77</td>\n",
       "      <td>126.970956</td>\n",
       "      <td>37.573269</td>\n",
       "      <td>NaN</td>\n",
       "    </tr>\n",
       "    <tr>\n",
       "      <th>4</th>\n",
       "      <td>kor</td>\n",
       "      <td>1111054000</td>\n",
       "      <td>서울특별시</td>\n",
       "      <td>종로구</td>\n",
       "      <td>삼청동</td>\n",
       "      <td>60</td>\n",
       "      <td>127</td>\n",
       "      <td>126</td>\n",
       "      <td>59</td>\n",
       "      <td>2.32</td>\n",
       "      <td>37</td>\n",
       "      <td>34</td>\n",
       "      <td>56.73</td>\n",
       "      <td>126.983978</td>\n",
       "      <td>37.582425</td>\n",
       "      <td>NaN</td>\n",
       "    </tr>\n",
       "  </tbody>\n",
       "</table>\n",
       "</div>"
      ],
      "text/plain": [
       "    구분      행정구역코드    1단계  2단계    3단계  격자 X  격자 Y  경도(시)  경도(분)  경도(초)  위도(시)  \\\n",
       "0  kor  1100000000  서울특별시  NaN    NaN    60   127    126     58  48.03     37   \n",
       "1  kor  1111000000  서울특별시  종로구    NaN    60   127    126     58  53.91     37   \n",
       "2  kor  1111051500  서울특별시  종로구  청운효자동    60   127    126     58  14.35     37   \n",
       "3  kor  1111053000  서울특별시  종로구    사직동    60   127    126     58  15.44     37   \n",
       "4  kor  1111054000  서울특별시  종로구    삼청동    60   127    126     59   2.32     37   \n",
       "\n",
       "   위도(분)  위도(초)   경도(초/100)  위도(초/100)  위치업데이트  \n",
       "0     33  48.85  126.980008  37.563569     NaN  \n",
       "1     34  13.36  126.981642  37.570378     NaN  \n",
       "2     35   2.89  126.970652  37.584137     NaN  \n",
       "3     34  23.77  126.970956  37.573269     NaN  \n",
       "4     34  56.73  126.983978  37.582425     NaN  "
      ]
     },
     "execution_count": 6,
     "metadata": {},
     "output_type": "execute_result"
    }
   ],
   "source": [
    "df.head()"
   ]
  },
  {
   "cell_type": "code",
   "execution_count": null,
   "metadata": {},
   "outputs": [],
   "source": [
    "def find_higher_region(area):\n",
    "    \"\"\"읍면동 정보를 입력받았을 때 시군구 정보를 반환해주는 함수\"\"\"\n",
    "    start = time.time()\n",
    "    \n",
    "    first = df.loc[df[\"3단계\"] == area, \"1단계\"]\n",
    "    second = df.loc[df[\"3단계\"] == area, \"2단계\"]\n",
    "    first_value = first.iloc[0] if not first.empty else None\n",
    "    second_value = second.iloc[0] if not second.empty else None\n",
    "    \n",
    "    end = time.time()\n",
    "    print(f\"실행시간: {end - start}\")\n",
    "    return first_value, second_value"
   ]
  },
  {
   "cell_type": "code",
   "execution_count": 26,
   "metadata": {},
   "outputs": [
    {
     "name": "stdout",
     "output_type": "stream",
     "text": [
      "실행 시간: 0.003713369369506836\n",
      "('서울특별시', '강남구')\n",
      "실행 시간: 0.003420591354370117\n",
      "('경기도', '고양시덕양구')\n"
     ]
    }
   ],
   "source": [
    "print(find_higher_region(\"역삼1동\"))\n",
    "print(find_higher_region(\"삼송1동\"))"
   ]
  }
 ],
 "metadata": {
  "kernelspec": {
   "display_name": "Python 3",
   "language": "python",
   "name": "python3"
  },
  "language_info": {
   "codemirror_mode": {
    "name": "ipython",
    "version": 3
   },
   "file_extension": ".py",
   "mimetype": "text/x-python",
   "name": "python",
   "nbconvert_exporter": "python",
   "pygments_lexer": "ipython3",
   "version": "3.11.11"
  }
 },
 "nbformat": 4,
 "nbformat_minor": 2
}
